{
 "cells": [
  {
   "cell_type": "markdown",
   "metadata": {},
   "source": [
    "# Importing and setting up Airtable"
   ]
  },
  {
   "cell_type": "markdown",
   "metadata": {},
   "source": [
    "First, import packages and initialize the autoreload."
   ]
  },
  {
   "cell_type": "code",
   "execution_count": 84,
   "metadata": {},
   "outputs": [
    {
     "name": "stdout",
     "output_type": "stream",
     "text": [
      "The autoreload extension is already loaded. To reload it, use:\n",
      "  %reload_ext autoreload\n"
     ]
    }
   ],
   "source": [
    "%load_ext autoreload\n",
    "%autoreload\n",
    "\n",
    "from pprint import pprint\n",
    "from airtable import Airtable"
   ]
  },
  {
   "cell_type": "markdown",
   "metadata": {},
   "source": [
    "Now, we instantiate our local airtable with key, table, name and api key."
   ]
  },
  {
   "cell_type": "code",
   "execution_count": 85,
   "metadata": {},
   "outputs": [
    {
     "name": "stdout",
     "output_type": "stream",
     "text": [
      "<Airtable table:BOTXREG1>\n"
     ]
    }
   ],
   "source": [
    "base_key = 'appftVAUOeQ3VtUxf'\n",
    "table_name = 'BOTXREG1'\n",
    "api_key = 'key6X8BebBRSfUqvE'\n",
    "airtable = Airtable(base_key, table_name, api_key)\n",
    "print(airtable)"
   ]
  },
  {
   "cell_type": "markdown",
   "metadata": {},
   "source": [
    "# Fetching and cleaning up the data"
   ]
  },
  {
   "cell_type": "markdown",
   "metadata": {},
   "source": [
    "The following code fetches all records as they are:"
   ]
  },
  {
   "cell_type": "code",
   "execution_count": 40,
   "metadata": {},
   "outputs": [
    {
     "name": "stdout",
     "output_type": "stream",
     "text": [
      "[{'id': 'rec0St6FzsqtyUt0V', 'fields': {'KiwibotID': 207, 'Status': ['In Queue'], 'Symtoms/Diagnostic': \"GPS doesn't appear\", 'Last Updated': '2019-02-04T23:31:00.000Z', 'Accountable': 'Fredy Acuña', 'Active Trigger': 0}, 'createdTime': '2019-02-11T22:28:11.000Z'}, {'id': 'rec0YUI58PlemCqgz', 'fields': {'KiwibotID': 216, 'Status': ['Active'], 'Last Updated': '2019-02-09T22:32:00.000Z', 'Active Trigger': 1}, 'createdTime': '2019-02-11T22:28:11.000Z'}, {'id': 'rec0j7jjSXH67wVnj', 'fields': {'KiwibotID': 296, 'Status': ['Active'], 'Last Updated': '2019-01-29T08:00:00.000Z', 'Active Trigger': 1}, 'createdTime': '2019-02-11T22:28:11.000Z'}, {'id': 'rec23PRAQurVX4Yxj', 'fields': {'KiwibotID': 225, 'Status': ['Active'], 'Symtoms/Diagnostic': '\\n', 'Last Updated': '2019-01-29T08:00:00.000Z', 'Active Trigger': 1}, 'createdTime': '2019-02-11T22:28:11.000Z'}, {'id': 'rec28sfwlOIiAwANv', 'fields': {'KiwibotID': 275, 'Status': ['Active'], 'Last Updated': '2019-01-29T08:00:00.000Z', 'Active Trigger': 1}, 'createdTime': '2019-02-11T22:28:11.000Z'}, {'id': 'rec2ECMoTiANgeTLr', 'fields': {'KiwibotID': 233, 'Status': ['Active'], 'Symtoms/Diagnostic': '\\n', 'Last Updated': '2019-01-29T08:00:00.000Z', 'Active Trigger': 1}, 'createdTime': '2019-02-11T22:28:11.000Z'}, {'id': 'rec2TzWV6psuTXcqz', 'fields': {'KiwibotID': 227, 'Status': ['Active'], 'Last Updated': '2019-01-29T08:00:00.000Z', 'Active Trigger': 1}, 'createdTime': '2019-02-11T22:28:11.000Z'}, {'id': 'rec3gE9VI1OkxgadE', 'fields': {'KiwibotID': 297, 'Status': ['Active'], 'Last Updated': '2019-01-29T08:00:00.000Z', 'Active Trigger': 1}, 'createdTime': '2019-02-11T22:28:11.000Z'}, {'id': 'rec3k3h5ruQJpp3G0', 'fields': {'KiwibotID': 282, 'Status': ['In Queue'], 'Symtoms/Diagnostic': 'Doesnt have Jetson resistor', 'Last Updated': '2019-02-02T08:00:00.000Z', 'Accountable': 'Camila Rincones', 'Active Trigger': 0}, 'createdTime': '2019-02-11T22:28:11.000Z'}, {'id': 'rec4HIg9lTbI3FskP', 'fields': {'KiwibotID': 231, 'Status': ['In Queue'], 'Symtoms/Diagnostic': 'No cameras', 'Last Updated': '2019-02-14T00:02:00.000Z', 'Accountable': 'Fredy Acuña', 'REGXNOVEDADES': '157, 162', 'Active Trigger': 0}, 'createdTime': '2019-02-11T22:28:11.000Z'}, {'id': 'rec58hQhfREZ2pOGY', 'fields': {'KiwibotID': 208, 'Status': ['Active'], 'Symtoms/Diagnostic': 'Actuator replaced', 'Last Updated': '2019-02-13T01:28:00.000Z', 'Accountable': 'Preston', 'Problem': ['Actuator'], 'REGXNOVEDADES': '134, 138', 'Active Trigger': 1}, 'createdTime': '2019-02-11T22:28:11.000Z'}, {'id': 'rec5itDDMYpJTDeTa', 'fields': {'KiwibotID': 213, 'Status': ['In Queue'], 'Symtoms/Diagnostic': 'No point and clcik', 'Last Updated': '2019-02-07T19:00:00.000Z', 'Accountable': 'Felipe Gallo Chapaval', 'Problem': ['Encoders'], 'Active Trigger': 0}, 'createdTime': '2019-02-11T22:28:11.000Z'}, {'id': 'rec6AChHpxBYAymUV', 'fields': {'KiwibotID': 267, 'Status': ['Active'], 'Last Updated': '2019-01-29T08:00:00.000Z', 'Active Trigger': 1}, 'createdTime': '2019-02-11T22:28:11.000Z'}, {'id': 'rec6XjB8JolfX1n1o', 'fields': {'KiwibotID': 243, 'Status': ['In Queue'], 'Symtoms/Diagnostic': 'Solder of IMU', 'Last Updated': '2019-02-08T02:50:00.000Z', 'Accountable': 'Camila Rincones', 'Problem': ['IMU'], 'Active Trigger': 0}, 'createdTime': '2019-02-11T22:28:11.000Z'}, {'id': 'rec75JKpJHmJBqfHC', 'fields': {'KiwibotID': 259, 'Status': ['Active'], 'Last Updated': '2019-01-29T08:00:00.000Z', 'Active Trigger': 1}, 'createdTime': '2019-02-11T22:28:11.000Z'}, {'id': 'rec7kYrncK1gBxL2o', 'fields': {'KiwibotID': 222, 'Status': ['Active'], 'Last Updated': '2019-01-29T08:00:00.000Z', 'Active Trigger': 1}, 'createdTime': '2019-02-11T22:28:11.000Z'}, {'id': 'rec9bIbkYTPhx6gcA', 'fields': {'REGXNOVEDADES 3': '143', 'Active Trigger': 0}, 'createdTime': '2019-02-16T02:40:12.000Z'}, {'id': 'recB3bhqcvkdCg3t7', 'fields': {'KiwibotID': 201, 'Status': ['Active'], 'Symtoms/Diagnostic': 'Appears and disappear the GPS', 'Last Updated': '2019-02-06T23:00:00.000Z', 'Accountable': 'Camila Rincones', 'Problem': ['Server'], 'Active Trigger': 1}, 'createdTime': '2019-02-11T22:27:48.000Z'}, {'id': 'recCO3qbvtBwXRvos', 'fields': {'KiwibotID': 205, 'Status': ['Active'], 'Symtoms/Diagnostic': '\\n', 'Last Updated': '2019-01-29T08:00:00.000Z', 'Active Trigger': 1}, 'createdTime': '2019-02-11T22:28:11.000Z'}, {'id': 'recDCSwLes7bkn3Ie', 'fields': {'REGXNOVEDADES 2': '138, 143, 144, 147, 149, 155', 'Active Trigger': 0}, 'createdTime': '2019-02-16T02:32:42.000Z'}, {'id': 'recDfXKqbuQY5sAvl', 'fields': {'KiwibotID': 210, 'Status': ['In Queue'], 'Symtoms/Diagnostic': 'IMU and Encoders error\\n', 'Last Updated': '2019-02-02T08:00:00.000Z', 'Accountable': 'Camila Rincones', 'Active Trigger': 0}, 'createdTime': '2019-02-11T22:28:11.000Z'}, {'id': 'recDhv6jZEQrc7qE9', 'fields': {'KiwibotID': 257, 'Status': ['Active'], 'Symtoms/Diagnostic': 'Replaced screen', 'Last Updated': '2019-02-13T02:12:00.000Z', 'Accountable': 'Sherry', 'Problem': ['Screen'], 'REGXNOVEDADES': '139, 143', 'Active Trigger': 1}, 'createdTime': '2019-02-11T22:28:11.000Z'}, {'id': 'recEPaHfAOE2j3O5e', 'fields': {'KiwibotID': 261, 'Status': ['In Queue'], 'Symtoms/Diagnostic': 'Intermitent', 'Last Updated': '2019-02-13T23:56:00.000Z', 'Accountable': 'Fredy Acuña', 'Problem': ['Actuator'], 'REGXNOVEDADES': '161', 'Active Trigger': 0}, 'createdTime': '2019-02-11T22:28:11.000Z'}, {'id': 'recEvMNX3JRm7K83e', 'fields': {'KiwibotID': 236, 'Status': ['In Queue'], 'Symtoms/Diagnostic': 'Point anad click doesnt work. IMU or encoders problem.', 'Last Updated': '2019-02-02T08:00:00.000Z', 'Accountable': 'Camila Rincones', 'Active Trigger': 0}, 'createdTime': '2019-02-11T22:28:11.000Z'}, {'id': 'recF6oltQrzheeQRq', 'fields': {'KiwibotID': 240, 'Status': ['In Queue'], 'Symtoms/Diagnostic': 'Calibrate', 'Last Updated': '2019-02-02T08:00:00.000Z', 'Accountable': 'Camila Rincones', 'Active Trigger': 0}, 'createdTime': '2019-02-11T22:28:11.000Z'}, {'id': 'recFzkmpYKsKAQQsn', 'fields': {'KiwibotID': 255, 'Status': ['Active'], 'Last Updated': '2019-01-29T08:00:00.000Z', 'Active Trigger': 1}, 'createdTime': '2019-02-11T22:28:11.000Z'}, {'id': 'recHFHAm8kWA1ZU3d', 'fields': {'KiwibotID': 229, 'Status': ['Active'], 'Last Updated': '2019-01-29T08:00:00.000Z', 'Active Trigger': 1}, 'createdTime': '2019-02-11T22:28:11.000Z'}, {'id': 'recHXLdMops6QZZ7A', 'fields': {'KiwibotID': 280, 'Status': ['Active'], 'Last Updated': '2019-01-29T08:00:00.000Z', 'Active Trigger': 1}, 'createdTime': '2019-02-11T22:28:11.000Z'}, {'id': 'recHeLINr7pIdxYye', 'fields': {'KiwibotID': 232, 'Status': ['In Queue'], 'Symtoms/Diagnostic': 'Point and click not working. Registering encoder error.', 'Last Updated': '2019-02-02T08:00:00.000Z', 'Accountable': 'Camila Rincones', 'Active Trigger': 0}, 'createdTime': '2019-02-11T22:28:11.000Z'}, {'id': 'recI9QPCnWeyPtTxK', 'fields': {'KiwibotID': 290, 'Status': ['Under Maintenance'], 'Symtoms/Diagnostic': 'asdf', 'Last Updated': '2019-02-06T14:33:00.000Z', 'Accountable': 'Fredy Acuña', 'Problem': ['False positive'], 'Active Trigger': 0}, 'createdTime': '2019-02-11T22:28:11.000Z'}, {'id': 'recIYM6JNRpZyJ3Q3', 'fields': {'REGXNOVEDADES 3': '156', 'Active Trigger': 0}, 'createdTime': '2019-02-16T02:40:12.000Z'}, {'id': 'recJBkBJhbZVbkdOA', 'fields': {'KiwibotID': 215, 'Status': ['Active'], 'Symtoms/Diagnostic': 'No screen.', 'Last Updated': '2019-02-05T22:42:00.000Z', 'Problem': ['Screen'], 'Active Trigger': 1}, 'createdTime': '2019-02-11T22:28:11.000Z'}, {'id': 'recKuyPZueJ4h2hZV', 'fields': {'KiwibotID': 223, 'Status': ['Active'], 'Symtoms/Diagnostic': 'No video from right camera \\n', 'Last Updated': '2019-02-09T22:00:00.000Z', 'Accountable': 'Fredy Acuña', 'Active Trigger': 1}, 'createdTime': '2019-02-11T22:28:11.000Z'}, {'id': 'recL7i50NA2irNEJA', 'fields': {'KiwibotID': 226, 'Status': ['Active'], 'Last Updated': '2019-01-29T08:00:00.000Z', 'Active Trigger': 1}, 'createdTime': '2019-02-11T22:28:11.000Z'}, {'id': 'recLnjEiGssRus4E7', 'fields': {'KiwibotID': 287, 'Status': ['In Queue'], 'Symtoms/Diagnostic': 'Suddenly turn off', 'Last Updated': '2019-02-14T01:58:00.000Z', 'Accountable': 'Fredy Acuña', 'Problem': ['Software', 'False positive'], 'REGXNOVEDADES': '159, 164', 'Active Trigger': 0}, 'createdTime': '2019-02-11T22:28:11.000Z'}, {'id': 'recMJkl0VpuaxNrdz', 'fields': {'KiwibotID': 262, 'Status': ['In Queue'], 'Symtoms/Diagnostic': 'Esc dead', 'Last Updated': '2019-02-08T01:36:00.000Z', 'Accountable': 'Camila Rincones', 'Active Trigger': 0}, 'createdTime': '2019-02-11T22:28:11.000Z'}, {'id': 'recMfsOA5PNphVCJY', 'fields': {'KiwibotID': 217, 'Status': ['Active'], 'Symtoms/Diagnostic': '\\n', 'Last Updated': '2019-01-29T08:00:00.000Z', 'Active Trigger': 1}, 'createdTime': '2019-02-11T22:28:11.000Z'}, {'id': 'recN5ECcn8h2BP8An', 'fields': {'KiwibotID': 291, 'Status': ['In Queue'], 'Symtoms/Diagnostic': 'No', 'Last Updated': '2019-01-29T08:00:00.000Z', 'Active Trigger': 0}, 'createdTime': '2019-02-11T22:28:11.000Z'}, {'id': 'recNu5j5dja8DJbQ9', 'fields': {'KiwibotID': 202, 'Status': ['Active'], 'Symtoms/Diagnostic': 'Servo', 'Last Updated': '2019-02-09T22:29:00.000Z', 'Accountable': 'Felipe Gallo Chapaval', 'Problem': ['Servo'], 'Active Trigger': 1}, 'createdTime': '2019-02-11T22:28:11.000Z'}, {'id': 'recO87EFedXmItTv0', 'fields': {'KiwibotID': 250, 'Status': ['Active'], 'Last Updated': '2019-01-29T08:00:00.000Z', 'Active Trigger': 1}, 'createdTime': '2019-02-11T22:28:11.000Z'}, {'id': 'recOfJDdopbyHPslc', 'fields': {'KiwibotID': 295, 'Status': ['Active'], 'Last Updated': '2019-01-29T08:00:00.000Z', 'Active Trigger': 1}, 'createdTime': '2019-02-11T22:28:11.000Z'}, {'id': 'recPFc2c4yHDZeA6M', 'fields': {'KiwibotID': 294, 'Status': ['Active'], 'Last Updated': '2019-01-29T08:00:00.000Z', 'Active Trigger': 1}, 'createdTime': '2019-02-11T22:28:11.000Z'}, {'id': 'recPu4457HrtNPSRr', 'fields': {'KiwibotID': 204, 'Status': ['In Queue'], 'Symtoms/Diagnostic': 'Only gives direction to the right', 'Last Updated': '2019-02-07T22:00:00.000Z', 'Accountable': 'Fredy Acuña', 'Problem': ['False positive'], 'Active Trigger': 0}, 'createdTime': '2019-02-11T22:28:11.000Z'}, {'id': 'recQ68OHLiBl7nKTD', 'fields': {'KiwibotID': 246, 'Last Updated': '2019-01-29T08:00:00.000Z', 'Active Trigger': 0}, 'createdTime': '2019-02-11T22:28:11.000Z'}, {'id': 'recRH8BERH9Qn25BV', 'fields': {'KiwibotID': 288, 'Status': ['In Queue'], 'Symtoms/Diagnostic': 'Point and click doent works.', 'Last Updated': '2019-02-02T08:00:00.000Z', 'Accountable': 'Camila Rincones', 'Active Trigger': 0}, 'createdTime': '2019-02-11T22:28:11.000Z'}, {'id': 'recRObLZEAqXc7B2w', 'fields': {'REGXNOVEDADES 3': '144, 147, 149', 'Active Trigger': 0}, 'createdTime': '2019-02-16T02:40:12.000Z'}, {'id': 'recRimc8gkvOlbSPJ', 'fields': {'KiwibotID': 292, 'Status': ['In Queue'], 'Symtoms/Diagnostic': 'fsdfsdf', 'Last Updated': '2019-01-29T08:00:00.000Z', 'Active Trigger': 0}, 'createdTime': '2019-02-11T22:28:11.000Z'}, {'id': 'recTPKFZ9swEthLJZ', 'fields': {'KiwibotID': 241, 'Status': ['Dead'], 'Symtoms/Diagnostic': 'Robot Burned due to Battery thermal runway.', 'Last Updated': '2019-02-02T08:00:00.000Z', 'Accountable': 'Camila Rincones', 'Active Trigger': 0}, 'createdTime': '2019-02-11T22:28:11.000Z'}, {'id': 'recTqWpcJ0pVkPmvF', 'fields': {'KiwibotID': 242, 'Status': ['Active'], 'Last Updated': '2019-01-29T08:00:00.000Z', 'Active Trigger': 1}, 'createdTime': '2019-02-11T22:28:11.000Z'}, {'id': 'recUHvm1SVWwIDqtv', 'fields': {'KiwibotID': 203, 'Status': ['In Queue'], 'Symtoms/Diagnostic': 'IMU & Encoders', 'Last Updated': '2019-02-04T23:31:00.000Z', 'Accountable': 'Camila Rincones', 'Problem': ['Encoders'], 'Active Trigger': 0}, 'createdTime': '2019-02-11T22:28:11.000Z'}, {'id': 'recUrv8MVhn5pcG8x', 'fields': {'KiwibotID': 256, 'Status': ['Active'], 'Last Updated': '2019-01-29T08:00:00.000Z', 'Active Trigger': 1}, 'createdTime': '2019-02-11T22:28:11.000Z'}, {'id': 'recUsX4ooE16EdROx', 'fields': {'KiwibotID': 277, 'Status': ['In Queue'], 'Symtoms/Diagnostic': 'The bot get stucked in \"kiwibot\" on the creen \\n', 'Last Updated': '2019-02-02T08:00:00.000Z', 'Accountable': 'Camila Rincones', 'Active Trigger': 0}, 'createdTime': '2019-02-11T22:28:11.000Z'}, {'id': 'recVYszfsncEB0vWm', 'fields': {'KiwibotID': 209, 'Status': ['Active'], 'Last Updated': '2019-02-09T22:55:00.000Z', 'Accountable': 'Camila Rincones', 'Active Trigger': 1}, 'createdTime': '2019-02-11T22:28:11.000Z'}, {'id': 'recVsqXif21czqffM', 'fields': {'KiwibotID': 265, 'Status': ['In Queue'], 'Symtoms/Diagnostic': \"Bot doesn't want to turn on\", 'Last Updated': '2019-02-11T17:12:00.000Z', 'Accountable': 'Fredy Acuña', 'Active Trigger': 0}, 'createdTime': '2019-02-11T22:28:11.000Z'}, {'id': 'recWBzgcIEe42aUqT', 'fields': {'KiwibotID': 289, 'Status': ['Active'], 'Symtoms/Diagnostic': 'Switch gear of the bot stops it for a second', 'Last Updated': '2019-02-02T08:00:00.000Z', 'Accountable': 'Fredy Acuña', 'Problem': ['False positive'], 'Active Trigger': 1}, 'createdTime': '2019-02-11T22:28:11.000Z'}, {'id': 'recWq5MxgcYgHr6qo', 'fields': {'KiwibotID': 230, 'Status': ['Active'], 'Symtoms/Diagnostic': '\\n', 'Last Updated': '2019-01-29T08:00:00.000Z', 'Active Trigger': 1}, 'createdTime': '2019-02-11T22:28:11.000Z'}, {'id': 'recX1sKsBdUGbRQfy', 'fields': {'REGXNOVEDADES 2': '134, 135, 139, 153, 156, 157, 158, 159, 160, 161, 162, 163, 164', 'Active Trigger': 0}, 'createdTime': '2019-02-16T02:32:42.000Z'}, {'id': 'recXHLWaobhbAaGtt', 'fields': {'KiwibotID': 254, 'Status': ['Active'], 'Last Updated': '2019-01-29T08:00:00.000Z', 'Active Trigger': 1}, 'createdTime': '2019-02-11T22:28:11.000Z'}, {'id': 'recXrAoZqVw3VoS1z', 'fields': {'KiwibotID': 206, 'Status': ['Active'], 'Symtoms/Diagnostic': 'The link screw is broken\\n', 'Last Updated': '2019-02-09T02:00:00.000Z', 'Accountable': 'Felipe Gallo Chapaval', 'Active Trigger': 1}, 'createdTime': '2019-02-11T22:28:11.000Z'}, {'id': 'recZ1yUEUvSCpZWWu', 'fields': {'KiwibotID': 268, 'Status': ['Active'], 'Last Updated': '2019-01-29T08:00:00.000Z', 'Active Trigger': 1}, 'createdTime': '2019-02-11T22:28:11.000Z'}, {'id': 'recZFerDik8LgXbae', 'fields': {'KiwibotID': 273, 'Status': ['In Queue'], 'Symtoms/Diagnostic': 'Doesnt have Jetson resistor', 'Last Updated': '2019-02-02T08:00:00.000Z', 'Accountable': 'Camila Rincones', 'Active Trigger': 0}, 'createdTime': '2019-02-11T22:28:11.000Z'}, {'id': 'recZGfriCCdKn7Om2', 'fields': {'KiwibotID': 279, 'Status': ['Active'], 'Last Updated': '2019-01-29T08:00:00.000Z', 'Active Trigger': 1}, 'createdTime': '2019-02-11T22:28:11.000Z'}, {'id': 'recZdHSLMXuciVfLX', 'fields': {'KiwibotID': 253, 'Status': ['Active'], 'Last Updated': '2019-01-29T08:00:00.000Z', 'Active Trigger': 1}, 'createdTime': '2019-02-11T22:28:11.000Z'}, {'id': 'recZuIO6dOCo9m9Vd', 'fields': {'KiwibotID': 274, 'Status': ['In Queue'], 'Symtoms/Diagnostic': 'asdf', 'Last Updated': '2019-01-29T08:00:00.000Z', 'REGXNOVEDADES': '165', 'Active Trigger': 0}, 'createdTime': '2019-02-11T22:28:11.000Z'}, {'id': 'recb0kvBZQxReZasj', 'fields': {'KiwibotID': 237, 'Status': ['Active'], 'Last Updated': '2019-01-29T08:00:00.000Z', 'Active Trigger': 1}, 'createdTime': '2019-02-11T22:28:11.000Z'}, {'id': 'recb8jsdfaT54FKFO', 'fields': {'KiwibotID': 278, 'Status': ['Active'], 'Symtoms/Diagnostic': 'False positive', 'Last Updated': '2019-02-12T16:35:00.000Z', 'Accountable': 'Camila Rincones', 'Problem': ['False positive'], 'REGXNOVEDADES': '135, 147', 'Active Trigger': 1}, 'createdTime': '2019-02-11T22:28:11.000Z'}, {'id': 'recbZKJ8aMyNZ9tLx', 'fields': {'KiwibotID': 251, 'Status': ['Active'], 'Last Updated': '2019-01-29T08:00:00.000Z', 'Active Trigger': 1}, 'createdTime': '2019-02-11T22:28:11.000Z'}, {'id': 'recboMyoH0yYQLV76', 'fields': {'KiwibotID': 271, 'Status': ['Active'], 'Symtoms/Diagnostic': 'right direction got stuck', 'Last Updated': '2019-02-09T02:00:00.000Z', 'Accountable': 'Felipe Gallo Chapaval', 'Problem': ['Cameras'], 'Active Trigger': 1}, 'createdTime': '2019-02-11T22:28:11.000Z'}, {'id': 'recdXyazNyz7E9emq', 'fields': {'KiwibotID': 200, 'Status': ['Active'], 'Symtoms/Diagnostic': 'Test Cami', 'Last Updated': '2019-02-13T01:56:00.000Z', 'Accountable': 'Camila Rincones', 'Problem': ['Test'], 'Active Trigger': 1}, 'createdTime': '2019-02-11T22:30:56.000Z'}, {'id': 'recfAbGO3Z0jbTRaU', 'fields': {'REGXNOVEDADES 3': '155', 'Active Trigger': 0}, 'createdTime': '2019-02-16T02:40:12.000Z'}, {'id': 'recfbuBO1YM3TzYKK', 'fields': {'KiwibotID': 244, 'Status': ['Active'], 'Last Updated': '2019-01-29T08:00:00.000Z', 'Active Trigger': 1}, 'createdTime': '2019-02-11T22:28:11.000Z'}, {'id': 'recfxcHH412AysaGf', 'fields': {'KiwibotID': 221, 'Status': ['Active'], 'Last Updated': '2019-01-29T08:00:00.000Z', 'Active Trigger': 1}, 'createdTime': '2019-02-11T22:28:11.000Z'}, {'id': 'rechRdu5uafi6FROu', 'fields': {'KiwibotID': 224, 'Status': ['Active'], 'Symtoms/Diagnostic': '\\n', 'Last Updated': '2019-01-29T08:00:00.000Z', 'Active Trigger': 1}, 'createdTime': '2019-02-11T22:28:11.000Z'}, {'id': 'rechRmjdSv4Tvy0vk', 'fields': {'KiwibotID': 284, 'Status': ['Active'], 'Last Updated': '2019-01-29T08:00:00.000Z', 'Active Trigger': 1}, 'createdTime': '2019-02-11T22:28:11.000Z'}, {'id': 'rechcZe4RwIXXQ1sA', 'fields': {'KiwibotID': 252, 'Status': ['Active'], 'Symtoms/Diagnostic': 'No point and click. \\nResin IMU problem.', 'Last Updated': '2019-02-02T08:00:00.000Z', 'Accountable': 'Camila Rincones', 'Problem': ['IMU'], 'Active Trigger': 1}, 'createdTime': '2019-02-11T22:28:11.000Z'}, {'id': 'reci4lpn0Hk1tVIdN', 'fields': {'KiwibotID': 245, 'Status': ['Active'], 'Last Updated': '2019-01-29T08:00:00.000Z', 'Active Trigger': 1}, 'createdTime': '2019-02-11T22:28:11.000Z'}, {'id': 'recj5BsPAqrIXrnD7', 'fields': {'KiwibotID': 218, 'Status': ['Active'], 'Last Updated': '2019-01-29T08:00:00.000Z', 'Active Trigger': 1}, 'createdTime': '2019-02-11T22:28:11.000Z'}, {'id': 'recjK2bVAlgBdmpkt', 'fields': {'KiwibotID': 235, 'Status': ['Active'], 'Symtoms/Diagnostic': 'False positive', 'Last Updated': '2019-02-13T02:14:00.000Z', 'Accountable': 'Rodolfo Ramirez', 'Problem': ['False positive'], 'REGXNOVEDADES': '144', 'Active Trigger': 1}, 'createdTime': '2019-02-11T22:28:11.000Z'}, {'id': 'recjUip46TG0JbA20', 'fields': {'KiwibotID': 285, 'Status': ['Active'], 'Last Updated': '2019-01-29T08:00:00.000Z', 'Active Trigger': 1}, 'createdTime': '2019-02-11T22:28:11.000Z'}, {'id': 'recjsI8LDMm9ygaPy', 'fields': {'KiwibotID': 260, 'Status': ['Active'], 'Last Updated': '2019-01-29T08:00:00.000Z', 'Active Trigger': 1}, 'createdTime': '2019-02-11T22:28:11.000Z'}, {'id': 'recjumTWnGj72o0PH', 'fields': {'KiwibotID': 272, 'Status': ['In Queue'], 'Symtoms/Diagnostic': 'Suddenly turn off', 'Last Updated': '2019-02-14T01:35:00.000Z', 'Accountable': 'Fredy Acuña', 'Problem': ['False positive'], 'REGXNOVEDADES': '149, 163', 'Active Trigger': 0}, 'createdTime': '2019-02-11T22:28:11.000Z'}, {'id': 'reckcP9jutxgyVu2L', 'fields': {'KiwibotID': 283, 'Status': ['Active'], 'Last Updated': '2019-01-29T08:00:00.000Z', 'Active Trigger': 1}, 'createdTime': '2019-02-11T22:28:11.000Z'}, {'id': 'reckzvJ7dN9HK6naT', 'fields': {'KiwibotID': 258, 'Status': ['Active'], 'Last Updated': '2019-01-29T08:00:00.000Z', 'Active Trigger': 1}, 'createdTime': '2019-02-11T22:28:11.000Z'}, {'id': 'reclmyM465FGOUEYA', 'fields': {'KiwibotID': 211, 'Status': ['Active'], 'Last Updated': '2019-01-29T08:00:00.000Z', 'Active Trigger': 1}, 'createdTime': '2019-02-11T22:28:11.000Z'}, {'id': 'reclwQuMuzTmvPbrM', 'fields': {'KiwibotID': 266, 'Status': ['Active'], 'Last Updated': '2019-01-29T08:00:00.000Z', 'Active Trigger': 1}, 'createdTime': '2019-02-11T22:28:11.000Z'}, {'id': 'reclzTkdChzqe3G2A', 'fields': {'REGXNOVEDADES 3': '138', 'Active Trigger': 0}, 'createdTime': '2019-02-16T02:40:12.000Z'}, {'id': 'recmSi58ZZ6A732Kw', 'fields': {'KiwibotID': 214, 'Last Updated': '2019-01-29T08:00:00.000Z', 'Active Trigger': 0}, 'createdTime': '2019-02-11T22:28:11.000Z'}, {'id': 'recmj7GqyE678mNik', 'fields': {'KiwibotID': 219, 'Status': ['Active'], 'Symtoms/Diagnostic': '\\n', 'Last Updated': '2019-01-29T08:00:00.000Z', 'Active Trigger': 1}, 'createdTime': '2019-02-11T22:28:11.000Z'}, {'id': 'recnApa0KHWldlKFq', 'fields': {'KiwibotID': 263, 'Status': ['Active'], 'Symtoms/Diagnostic': 'No cameras and screen', 'Last Updated': '2019-02-09T02:00:00.000Z', 'Accountable': 'Felipe Gallo Chapaval', 'Problem': ['Screen', 'Cameras'], 'Active Trigger': 1}, 'createdTime': '2019-02-11T22:28:11.000Z'}, {'id': 'recnN1nKocPYJtRep', 'fields': {'KiwibotID': 248, 'Status': ['Active'], 'Symtoms/Diagnostic': 'Bot only goes to the rigth', 'Last Updated': '2019-02-05T23:38:00.000Z', 'Accountable': 'Fredy Acuña', 'Active Trigger': 1}, 'createdTime': '2019-02-11T22:28:11.000Z'}, {'id': 'recnPN2IumxaJzo0G', 'fields': {'KiwibotID': 228, 'Status': ['Active'], 'Symtoms/Diagnostic': 'No video from right camera \\n', 'Last Updated': '2019-02-08T22:05:00.000Z', 'Accountable': 'Felipe Gallo Chapaval', 'Problem': ['Cameras'], 'Active Trigger': 1}, 'createdTime': '2019-02-11T22:28:11.000Z'}, {'id': 'recoO1LayPOaRIM0Z', 'fields': {'KiwibotID': 270, 'Status': ['Active'], 'Symtoms/Diagnostic': 'Bell Replaced', 'Last Updated': '2019-02-13T17:53:00.000Z', 'Accountable': 'Adam', 'Problem': ['Bell'], 'REGXNOVEDADES': '153, 155', 'Active Trigger': 1}, 'createdTime': '2019-02-11T22:28:11.000Z'}, {'id': 'recppPawDiBkBVzYH', 'fields': {'KiwibotID': 212, 'Status': ['Active'], 'Last Updated': '2019-01-29T08:00:00.000Z', 'Active Trigger': 1}, 'createdTime': '2019-02-11T22:28:11.000Z'}, {'id': 'recq0VM633oMSVudQ', 'fields': {'KiwibotID': 264, 'Status': ['In Queue'], 'Symtoms/Diagnostic': 'The bot doesnt move. We already try with an other chassis, top, case... \\n', 'Last Updated': '2019-02-02T08:00:00.000Z', 'Accountable': 'Camila Rincones', 'Active Trigger': 0}, 'createdTime': '2019-02-11T22:28:11.000Z'}, {'id': 'recrjSTRlrOr8ipS5', 'fields': {'KiwibotID': 239, 'Status': ['Active'], 'Last Updated': '2019-01-29T08:00:00.000Z', 'Active Trigger': 1}, 'createdTime': '2019-02-11T22:28:11.000Z'}, {'id': 'rect34EEWNw2H4su9', 'fields': {'KiwibotID': 276, 'Status': ['In Queue'], 'Symtoms/Diagnostic': \"The box of Point and click doesn't appears on the screen.\", 'Last Updated': '2019-02-02T08:00:00.000Z', 'Accountable': 'Camila Rincones', 'Problem': ['Voltage calibration'], 'Active Trigger': 0}, 'createdTime': '2019-02-11T22:28:11.000Z'}, {'id': 'rect8Cnp0VrIL4MjR', 'fields': {'KiwibotID': 269, 'Status': ['Active'], 'Last Updated': '2019-01-29T08:00:00.000Z', 'Active Trigger': 1}, 'createdTime': '2019-02-11T22:28:11.000Z'}, {'id': 'recuPH1Pk82SuuEL5', 'fields': {'KiwibotID': 281, 'Status': ['Active'], 'Last Updated': '2019-01-29T08:00:00.000Z', 'Active Trigger': 1}, 'createdTime': '2019-02-11T22:28:11.000Z'}, {'id': 'recvWFVfJeWCOBr6h', 'fields': {'KiwibotID': 249, 'Status': ['Active'], 'Last Updated': '2019-01-29T08:00:00.000Z', 'Active Trigger': 1}, 'createdTime': '2019-02-11T22:28:11.000Z'}, {'id': 'recvfY9Pe8Jmgw9wP', 'fields': {'KiwibotID': 238, 'Status': ['Active'], 'Symtoms/Diagnostic': 'Direction stuck to the sides with keyboard.\\nCheck the links of the wheels ', 'Last Updated': '2019-02-07T19:18:00.000Z', 'Accountable': 'Felipe Gallo Chapaval', 'Problem': ['MiFi', 'Screen', 'Compute Module Screws'], 'Active Trigger': 1}, 'createdTime': '2019-02-11T22:28:11.000Z'}, {'id': 'recxDEzwPOzlV29qU', 'fields': {'KiwibotID': 247, 'Status': ['Active'], 'Symtoms/Diagnostic': \"Bot doesn't give direction to the sides\", 'Last Updated': '2019-02-09T02:30:00.000Z', 'Accountable': 'Felipe Gallo Chapaval', 'Problem': ['Software', 'Servo'], 'Active Trigger': 1}, 'createdTime': '2019-02-11T22:28:11.000Z'}, {'id': 'recxvrF98ZLz3JM7M', 'fields': {'KiwibotID': 220, 'Status': ['In Queue'], 'Symtoms/Diagnostic': 'Broken cupula`', 'Last Updated': '2019-02-13T11:55:00.000Z', 'Accountable': 'Fredy Acuña', 'Problem': ['Servo'], 'REGXNOVEDADES': '156, 160', 'Active Trigger': 0}, 'createdTime': '2019-02-11T22:28:11.000Z'}, {'id': 'recyoQBCLfxpRdcLM', 'fields': {'KiwibotID': 293, 'Status': ['Active'], 'Last Updated': '2019-01-29T08:00:00.000Z', 'Active Trigger': 1}, 'createdTime': '2019-02-11T22:28:11.000Z'}, {'id': 'recyugyJVlM0vwAAY', 'fields': {'KiwibotID': 286, 'Status': ['In Queue'], 'Symtoms/Diagnostic': 'Doesnt connect to the network', 'Last Updated': '2019-02-02T08:00:00.000Z', 'Accountable': 'Camila Rincones', 'Active Trigger': 0}, 'createdTime': '2019-02-11T22:28:11.000Z'}, {'id': 'reczfRfTqCU61mOLe', 'fields': {'KiwibotID': 234, 'Status': ['In Queue'], 'Symtoms/Diagnostic': 'Switch gear of the bot stops it for a second', 'Last Updated': '2019-02-05T05:30:00.000Z', 'Accountable': 'Felipe Gallo Chapaval', 'Problem': ['Screen', 'Sensor bar', 'Compute Module Screws'], 'REGXNOVEDADES': '158', 'Active Trigger': 0}, 'createdTime': '2019-02-11T22:28:11.000Z'}]\n"
     ]
    }
   ],
   "source": [
    "records = airtable.get_all()\n",
    "print(records)"
   ]
  },
  {
   "cell_type": "markdown",
   "metadata": {},
   "source": [
    "We can see that the records come with a record number, the record itself, and a creation date. We are only concerned with the actual information provided in 'fields', but we can save this data regardless"
   ]
  },
  {
   "cell_type": "code",
   "execution_count": 86,
   "metadata": {},
   "outputs": [
    {
     "name": "stdout",
     "output_type": "stream",
     "text": [
      "rec0St6FzsqtyUt0V\n",
      "rec0YUI58PlemCqgz\n",
      "rec0j7jjSXH67wVnj\n",
      "rec23PRAQurVX4Yxj\n",
      "rec28sfwlOIiAwANv\n",
      "rec2ECMoTiANgeTLr\n",
      "rec2TzWV6psuTXcqz\n",
      "rec3gE9VI1OkxgadE\n",
      "rec3k3h5ruQJpp3G0\n",
      "rec4HIg9lTbI3FskP\n",
      "rec58hQhfREZ2pOGY\n",
      "rec5itDDMYpJTDeTa\n",
      "rec6AChHpxBYAymUV\n",
      "rec6XjB8JolfX1n1o\n",
      "rec75JKpJHmJBqfHC\n",
      "rec7kYrncK1gBxL2o\n",
      "rec9bIbkYTPhx6gcA\n",
      "recB3bhqcvkdCg3t7\n",
      "recCO3qbvtBwXRvos\n",
      "recDCSwLes7bkn3Ie\n",
      "recDfXKqbuQY5sAvl\n",
      "recDhv6jZEQrc7qE9\n",
      "recEPaHfAOE2j3O5e\n",
      "recEvMNX3JRm7K83e\n",
      "recF6oltQrzheeQRq\n",
      "recFzkmpYKsKAQQsn\n",
      "recHFHAm8kWA1ZU3d\n",
      "recHXLdMops6QZZ7A\n",
      "recHeLINr7pIdxYye\n",
      "recI9QPCnWeyPtTxK\n",
      "recIYM6JNRpZyJ3Q3\n",
      "recJBkBJhbZVbkdOA\n",
      "recKuyPZueJ4h2hZV\n",
      "recL7i50NA2irNEJA\n",
      "recLnjEiGssRus4E7\n",
      "recMJkl0VpuaxNrdz\n",
      "recMfsOA5PNphVCJY\n",
      "recN5ECcn8h2BP8An\n",
      "recNu5j5dja8DJbQ9\n",
      "recO87EFedXmItTv0\n",
      "recOfJDdopbyHPslc\n",
      "recPFc2c4yHDZeA6M\n",
      "recPu4457HrtNPSRr\n",
      "recQ68OHLiBl7nKTD\n",
      "recRH8BERH9Qn25BV\n",
      "recRObLZEAqXc7B2w\n",
      "recRimc8gkvOlbSPJ\n",
      "recTPKFZ9swEthLJZ\n",
      "recTqWpcJ0pVkPmvF\n",
      "recUHvm1SVWwIDqtv\n",
      "recUrv8MVhn5pcG8x\n",
      "recUsX4ooE16EdROx\n",
      "recVYszfsncEB0vWm\n",
      "recVsqXif21czqffM\n",
      "recWBzgcIEe42aUqT\n",
      "recWq5MxgcYgHr6qo\n",
      "recX1sKsBdUGbRQfy\n",
      "recXHLWaobhbAaGtt\n",
      "recXrAoZqVw3VoS1z\n",
      "recZ1yUEUvSCpZWWu\n",
      "recZFerDik8LgXbae\n",
      "recZGfriCCdKn7Om2\n",
      "recZdHSLMXuciVfLX\n",
      "recZuIO6dOCo9m9Vd\n",
      "recb0kvBZQxReZasj\n",
      "recb8jsdfaT54FKFO\n",
      "recbZKJ8aMyNZ9tLx\n",
      "recboMyoH0yYQLV76\n",
      "recdXyazNyz7E9emq\n",
      "recfAbGO3Z0jbTRaU\n",
      "recfbuBO1YM3TzYKK\n",
      "recfxcHH412AysaGf\n",
      "rechRdu5uafi6FROu\n",
      "rechRmjdSv4Tvy0vk\n",
      "rechcZe4RwIXXQ1sA\n",
      "reci4lpn0Hk1tVIdN\n",
      "recj5BsPAqrIXrnD7\n",
      "recjK2bVAlgBdmpkt\n",
      "recjUip46TG0JbA20\n",
      "recjsI8LDMm9ygaPy\n",
      "recjumTWnGj72o0PH\n",
      "reckcP9jutxgyVu2L\n",
      "reckzvJ7dN9HK6naT\n",
      "reclmyM465FGOUEYA\n",
      "reclwQuMuzTmvPbrM\n",
      "reclzTkdChzqe3G2A\n",
      "recmSi58ZZ6A732Kw\n",
      "recmj7GqyE678mNik\n",
      "recnApa0KHWldlKFq\n",
      "recnN1nKocPYJtRep\n",
      "recnPN2IumxaJzo0G\n",
      "recoO1LayPOaRIM0Z\n",
      "recppPawDiBkBVzYH\n",
      "recq0VM633oMSVudQ\n",
      "recrjSTRlrOr8ipS5\n",
      "rect34EEWNw2H4su9\n",
      "rect8Cnp0VrIL4MjR\n",
      "recuPH1Pk82SuuEL5\n",
      "recvWFVfJeWCOBr6h\n",
      "recvfY9Pe8Jmgw9wP\n",
      "recxDEzwPOzlV29qU\n",
      "recxvrF98ZLz3JM7M\n",
      "recyoQBCLfxpRdcLM\n",
      "recyugyJVlM0vwAAY\n",
      "reczfRfTqCU61mOLe\n"
     ]
    }
   ],
   "source": [
    "for record in records:\n",
    "    print(record['id'])"
   ]
  },
  {
   "cell_type": "markdown",
   "metadata": {},
   "source": [
    "As it turns out, some of the 'fields' are garbage data with two categories {'REGXNOVEDADES': , 'Active Trigger': ''}. We acn just sort out this data and store all the useful data of the same form in an array we'll call bots."
   ]
  },
  {
   "cell_type": "code",
   "execution_count": 88,
   "metadata": {},
   "outputs": [],
   "source": [
    "bots = [record['fields'] for record in records if len(record['fields']) > 2]"
   ]
  },
  {
   "cell_type": "code",
   "execution_count": 89,
   "metadata": {},
   "outputs": [
    {
     "name": "stdout",
     "output_type": "stream",
     "text": [
      "98\n",
      "{'KiwibotID': 207, 'Status': ['In Queue'], 'Symtoms/Diagnostic': \"GPS doesn't appear\", 'Last Updated': '2019-02-04T23:31:00.000Z', 'Accountable': 'Fredy Acuña', 'Active Trigger': 0}\n",
      "{'KiwibotID': 216, 'Status': ['Active'], 'Last Updated': '2019-02-09T22:32:00.000Z', 'Active Trigger': 1}\n",
      "{'KiwibotID': 296, 'Status': ['Active'], 'Last Updated': '2019-01-29T08:00:00.000Z', 'Active Trigger': 1}\n",
      "{'KiwibotID': 225, 'Status': ['Active'], 'Symtoms/Diagnostic': '\\n', 'Last Updated': '2019-01-29T08:00:00.000Z', 'Active Trigger': 1}\n",
      "{'KiwibotID': 275, 'Status': ['Active'], 'Last Updated': '2019-01-29T08:00:00.000Z', 'Active Trigger': 1}\n",
      "{'KiwibotID': 233, 'Status': ['Active'], 'Symtoms/Diagnostic': '\\n', 'Last Updated': '2019-01-29T08:00:00.000Z', 'Active Trigger': 1}\n",
      "{'KiwibotID': 227, 'Status': ['Active'], 'Last Updated': '2019-01-29T08:00:00.000Z', 'Active Trigger': 1}\n",
      "{'KiwibotID': 297, 'Status': ['Active'], 'Last Updated': '2019-01-29T08:00:00.000Z', 'Active Trigger': 1}\n",
      "{'KiwibotID': 282, 'Status': ['In Queue'], 'Symtoms/Diagnostic': 'Doesnt have Jetson resistor', 'Last Updated': '2019-02-02T08:00:00.000Z', 'Accountable': 'Camila Rincones', 'Active Trigger': 0}\n",
      "{'KiwibotID': 231, 'Status': ['In Queue'], 'Symtoms/Diagnostic': 'No cameras', 'Last Updated': '2019-02-14T00:02:00.000Z', 'Accountable': 'Fredy Acuña', 'REGXNOVEDADES': '157, 162', 'Active Trigger': 0}\n",
      "{'KiwibotID': 208, 'Status': ['Active'], 'Symtoms/Diagnostic': 'Actuator replaced', 'Last Updated': '2019-02-13T01:28:00.000Z', 'Accountable': 'Preston', 'Problem': ['Actuator'], 'REGXNOVEDADES': '134, 138', 'Active Trigger': 1}\n",
      "{'KiwibotID': 213, 'Status': ['In Queue'], 'Symtoms/Diagnostic': 'No point and clcik', 'Last Updated': '2019-02-07T19:00:00.000Z', 'Accountable': 'Felipe Gallo Chapaval', 'Problem': ['Encoders'], 'Active Trigger': 0}\n",
      "{'KiwibotID': 267, 'Status': ['Active'], 'Last Updated': '2019-01-29T08:00:00.000Z', 'Active Trigger': 1}\n",
      "{'KiwibotID': 243, 'Status': ['In Queue'], 'Symtoms/Diagnostic': 'Solder of IMU', 'Last Updated': '2019-02-08T02:50:00.000Z', 'Accountable': 'Camila Rincones', 'Problem': ['IMU'], 'Active Trigger': 0}\n",
      "{'KiwibotID': 259, 'Status': ['Active'], 'Last Updated': '2019-01-29T08:00:00.000Z', 'Active Trigger': 1}\n",
      "{'KiwibotID': 222, 'Status': ['Active'], 'Last Updated': '2019-01-29T08:00:00.000Z', 'Active Trigger': 1}\n",
      "{'KiwibotID': 201, 'Status': ['Active'], 'Symtoms/Diagnostic': 'Appears and disappear the GPS', 'Last Updated': '2019-02-06T23:00:00.000Z', 'Accountable': 'Camila Rincones', 'Problem': ['Server'], 'Active Trigger': 1}\n",
      "{'KiwibotID': 205, 'Status': ['Active'], 'Symtoms/Diagnostic': '\\n', 'Last Updated': '2019-01-29T08:00:00.000Z', 'Active Trigger': 1}\n",
      "{'KiwibotID': 210, 'Status': ['In Queue'], 'Symtoms/Diagnostic': 'IMU and Encoders error\\n', 'Last Updated': '2019-02-02T08:00:00.000Z', 'Accountable': 'Camila Rincones', 'Active Trigger': 0}\n",
      "{'KiwibotID': 257, 'Status': ['Active'], 'Symtoms/Diagnostic': 'Replaced screen', 'Last Updated': '2019-02-13T02:12:00.000Z', 'Accountable': 'Sherry', 'Problem': ['Screen'], 'REGXNOVEDADES': '139, 143', 'Active Trigger': 1}\n",
      "{'KiwibotID': 261, 'Status': ['In Queue'], 'Symtoms/Diagnostic': 'Intermitent', 'Last Updated': '2019-02-13T23:56:00.000Z', 'Accountable': 'Fredy Acuña', 'Problem': ['Actuator'], 'REGXNOVEDADES': '161', 'Active Trigger': 0}\n",
      "{'KiwibotID': 236, 'Status': ['In Queue'], 'Symtoms/Diagnostic': 'Point anad click doesnt work. IMU or encoders problem.', 'Last Updated': '2019-02-02T08:00:00.000Z', 'Accountable': 'Camila Rincones', 'Active Trigger': 0}\n",
      "{'KiwibotID': 240, 'Status': ['In Queue'], 'Symtoms/Diagnostic': 'Calibrate', 'Last Updated': '2019-02-02T08:00:00.000Z', 'Accountable': 'Camila Rincones', 'Active Trigger': 0}\n",
      "{'KiwibotID': 255, 'Status': ['Active'], 'Last Updated': '2019-01-29T08:00:00.000Z', 'Active Trigger': 1}\n",
      "{'KiwibotID': 229, 'Status': ['Active'], 'Last Updated': '2019-01-29T08:00:00.000Z', 'Active Trigger': 1}\n",
      "{'KiwibotID': 280, 'Status': ['Active'], 'Last Updated': '2019-01-29T08:00:00.000Z', 'Active Trigger': 1}\n",
      "{'KiwibotID': 232, 'Status': ['In Queue'], 'Symtoms/Diagnostic': 'Point and click not working. Registering encoder error.', 'Last Updated': '2019-02-02T08:00:00.000Z', 'Accountable': 'Camila Rincones', 'Active Trigger': 0}\n",
      "{'KiwibotID': 290, 'Status': ['Under Maintenance'], 'Symtoms/Diagnostic': 'asdf', 'Last Updated': '2019-02-06T14:33:00.000Z', 'Accountable': 'Fredy Acuña', 'Problem': ['False positive'], 'Active Trigger': 0}\n",
      "{'KiwibotID': 215, 'Status': ['Active'], 'Symtoms/Diagnostic': 'No screen.', 'Last Updated': '2019-02-05T22:42:00.000Z', 'Problem': ['Screen'], 'Active Trigger': 1}\n",
      "{'KiwibotID': 223, 'Status': ['Active'], 'Symtoms/Diagnostic': 'No video from right camera \\n', 'Last Updated': '2019-02-09T22:00:00.000Z', 'Accountable': 'Fredy Acuña', 'Active Trigger': 1}\n",
      "{'KiwibotID': 226, 'Status': ['Active'], 'Last Updated': '2019-01-29T08:00:00.000Z', 'Active Trigger': 1}\n",
      "{'KiwibotID': 287, 'Status': ['In Queue'], 'Symtoms/Diagnostic': 'Suddenly turn off', 'Last Updated': '2019-02-14T01:58:00.000Z', 'Accountable': 'Fredy Acuña', 'Problem': ['Software', 'False positive'], 'REGXNOVEDADES': '159, 164', 'Active Trigger': 0}\n",
      "{'KiwibotID': 262, 'Status': ['In Queue'], 'Symtoms/Diagnostic': 'Esc dead', 'Last Updated': '2019-02-08T01:36:00.000Z', 'Accountable': 'Camila Rincones', 'Active Trigger': 0}\n",
      "{'KiwibotID': 217, 'Status': ['Active'], 'Symtoms/Diagnostic': '\\n', 'Last Updated': '2019-01-29T08:00:00.000Z', 'Active Trigger': 1}\n",
      "{'KiwibotID': 291, 'Status': ['In Queue'], 'Symtoms/Diagnostic': 'No', 'Last Updated': '2019-01-29T08:00:00.000Z', 'Active Trigger': 0}\n",
      "{'KiwibotID': 202, 'Status': ['Active'], 'Symtoms/Diagnostic': 'Servo', 'Last Updated': '2019-02-09T22:29:00.000Z', 'Accountable': 'Felipe Gallo Chapaval', 'Problem': ['Servo'], 'Active Trigger': 1}\n",
      "{'KiwibotID': 250, 'Status': ['Active'], 'Last Updated': '2019-01-29T08:00:00.000Z', 'Active Trigger': 1}\n",
      "{'KiwibotID': 295, 'Status': ['Active'], 'Last Updated': '2019-01-29T08:00:00.000Z', 'Active Trigger': 1}\n",
      "{'KiwibotID': 294, 'Status': ['Active'], 'Last Updated': '2019-01-29T08:00:00.000Z', 'Active Trigger': 1}\n",
      "{'KiwibotID': 204, 'Status': ['In Queue'], 'Symtoms/Diagnostic': 'Only gives direction to the right', 'Last Updated': '2019-02-07T22:00:00.000Z', 'Accountable': 'Fredy Acuña', 'Problem': ['False positive'], 'Active Trigger': 0}\n",
      "{'KiwibotID': 246, 'Last Updated': '2019-01-29T08:00:00.000Z', 'Active Trigger': 0}\n",
      "{'KiwibotID': 288, 'Status': ['In Queue'], 'Symtoms/Diagnostic': 'Point and click doent works.', 'Last Updated': '2019-02-02T08:00:00.000Z', 'Accountable': 'Camila Rincones', 'Active Trigger': 0}\n",
      "{'KiwibotID': 292, 'Status': ['In Queue'], 'Symtoms/Diagnostic': 'fsdfsdf', 'Last Updated': '2019-01-29T08:00:00.000Z', 'Active Trigger': 0}\n",
      "{'KiwibotID': 241, 'Status': ['Dead'], 'Symtoms/Diagnostic': 'Robot Burned due to Battery thermal runway.', 'Last Updated': '2019-02-02T08:00:00.000Z', 'Accountable': 'Camila Rincones', 'Active Trigger': 0}\n",
      "{'KiwibotID': 242, 'Status': ['Active'], 'Last Updated': '2019-01-29T08:00:00.000Z', 'Active Trigger': 1}\n",
      "{'KiwibotID': 203, 'Status': ['In Queue'], 'Symtoms/Diagnostic': 'IMU & Encoders', 'Last Updated': '2019-02-04T23:31:00.000Z', 'Accountable': 'Camila Rincones', 'Problem': ['Encoders'], 'Active Trigger': 0}\n",
      "{'KiwibotID': 256, 'Status': ['Active'], 'Last Updated': '2019-01-29T08:00:00.000Z', 'Active Trigger': 1}\n",
      "{'KiwibotID': 277, 'Status': ['In Queue'], 'Symtoms/Diagnostic': 'The bot get stucked in \"kiwibot\" on the creen \\n', 'Last Updated': '2019-02-02T08:00:00.000Z', 'Accountable': 'Camila Rincones', 'Active Trigger': 0}\n",
      "{'KiwibotID': 209, 'Status': ['Active'], 'Last Updated': '2019-02-09T22:55:00.000Z', 'Accountable': 'Camila Rincones', 'Active Trigger': 1}\n",
      "{'KiwibotID': 265, 'Status': ['In Queue'], 'Symtoms/Diagnostic': \"Bot doesn't want to turn on\", 'Last Updated': '2019-02-11T17:12:00.000Z', 'Accountable': 'Fredy Acuña', 'Active Trigger': 0}\n",
      "{'KiwibotID': 289, 'Status': ['Active'], 'Symtoms/Diagnostic': 'Switch gear of the bot stops it for a second', 'Last Updated': '2019-02-02T08:00:00.000Z', 'Accountable': 'Fredy Acuña', 'Problem': ['False positive'], 'Active Trigger': 1}\n",
      "{'KiwibotID': 230, 'Status': ['Active'], 'Symtoms/Diagnostic': '\\n', 'Last Updated': '2019-01-29T08:00:00.000Z', 'Active Trigger': 1}\n",
      "{'KiwibotID': 254, 'Status': ['Active'], 'Last Updated': '2019-01-29T08:00:00.000Z', 'Active Trigger': 1}\n",
      "{'KiwibotID': 206, 'Status': ['Active'], 'Symtoms/Diagnostic': 'The link screw is broken\\n', 'Last Updated': '2019-02-09T02:00:00.000Z', 'Accountable': 'Felipe Gallo Chapaval', 'Active Trigger': 1}\n",
      "{'KiwibotID': 268, 'Status': ['Active'], 'Last Updated': '2019-01-29T08:00:00.000Z', 'Active Trigger': 1}\n",
      "{'KiwibotID': 273, 'Status': ['In Queue'], 'Symtoms/Diagnostic': 'Doesnt have Jetson resistor', 'Last Updated': '2019-02-02T08:00:00.000Z', 'Accountable': 'Camila Rincones', 'Active Trigger': 0}\n",
      "{'KiwibotID': 279, 'Status': ['Active'], 'Last Updated': '2019-01-29T08:00:00.000Z', 'Active Trigger': 1}\n",
      "{'KiwibotID': 253, 'Status': ['Active'], 'Last Updated': '2019-01-29T08:00:00.000Z', 'Active Trigger': 1}\n",
      "{'KiwibotID': 274, 'Status': ['In Queue'], 'Symtoms/Diagnostic': 'asdf', 'Last Updated': '2019-01-29T08:00:00.000Z', 'REGXNOVEDADES': '165', 'Active Trigger': 0}\n",
      "{'KiwibotID': 237, 'Status': ['Active'], 'Last Updated': '2019-01-29T08:00:00.000Z', 'Active Trigger': 1}\n",
      "{'KiwibotID': 278, 'Status': ['Active'], 'Symtoms/Diagnostic': 'False positive', 'Last Updated': '2019-02-12T16:35:00.000Z', 'Accountable': 'Camila Rincones', 'Problem': ['False positive'], 'REGXNOVEDADES': '135, 147', 'Active Trigger': 1}\n",
      "{'KiwibotID': 251, 'Status': ['Active'], 'Last Updated': '2019-01-29T08:00:00.000Z', 'Active Trigger': 1}\n",
      "{'KiwibotID': 271, 'Status': ['Active'], 'Symtoms/Diagnostic': 'right direction got stuck', 'Last Updated': '2019-02-09T02:00:00.000Z', 'Accountable': 'Felipe Gallo Chapaval', 'Problem': ['Cameras'], 'Active Trigger': 1}\n",
      "{'KiwibotID': 200, 'Status': ['Active'], 'Symtoms/Diagnostic': 'Test Cami', 'Last Updated': '2019-02-13T01:56:00.000Z', 'Accountable': 'Camila Rincones', 'Problem': ['Test'], 'Active Trigger': 1}\n",
      "{'KiwibotID': 244, 'Status': ['Active'], 'Last Updated': '2019-01-29T08:00:00.000Z', 'Active Trigger': 1}\n",
      "{'KiwibotID': 221, 'Status': ['Active'], 'Last Updated': '2019-01-29T08:00:00.000Z', 'Active Trigger': 1}\n",
      "{'KiwibotID': 224, 'Status': ['Active'], 'Symtoms/Diagnostic': '\\n', 'Last Updated': '2019-01-29T08:00:00.000Z', 'Active Trigger': 1}\n",
      "{'KiwibotID': 284, 'Status': ['Active'], 'Last Updated': '2019-01-29T08:00:00.000Z', 'Active Trigger': 1}\n",
      "{'KiwibotID': 252, 'Status': ['Active'], 'Symtoms/Diagnostic': 'No point and click. \\nResin IMU problem.', 'Last Updated': '2019-02-02T08:00:00.000Z', 'Accountable': 'Camila Rincones', 'Problem': ['IMU'], 'Active Trigger': 1}\n",
      "{'KiwibotID': 245, 'Status': ['Active'], 'Last Updated': '2019-01-29T08:00:00.000Z', 'Active Trigger': 1}\n",
      "{'KiwibotID': 218, 'Status': ['Active'], 'Last Updated': '2019-01-29T08:00:00.000Z', 'Active Trigger': 1}\n",
      "{'KiwibotID': 235, 'Status': ['Active'], 'Symtoms/Diagnostic': 'False positive', 'Last Updated': '2019-02-13T02:14:00.000Z', 'Accountable': 'Rodolfo Ramirez', 'Problem': ['False positive'], 'REGXNOVEDADES': '144', 'Active Trigger': 1}\n",
      "{'KiwibotID': 285, 'Status': ['Active'], 'Last Updated': '2019-01-29T08:00:00.000Z', 'Active Trigger': 1}\n",
      "{'KiwibotID': 260, 'Status': ['Active'], 'Last Updated': '2019-01-29T08:00:00.000Z', 'Active Trigger': 1}\n",
      "{'KiwibotID': 272, 'Status': ['In Queue'], 'Symtoms/Diagnostic': 'Suddenly turn off', 'Last Updated': '2019-02-14T01:35:00.000Z', 'Accountable': 'Fredy Acuña', 'Problem': ['False positive'], 'REGXNOVEDADES': '149, 163', 'Active Trigger': 0}\n",
      "{'KiwibotID': 283, 'Status': ['Active'], 'Last Updated': '2019-01-29T08:00:00.000Z', 'Active Trigger': 1}\n",
      "{'KiwibotID': 258, 'Status': ['Active'], 'Last Updated': '2019-01-29T08:00:00.000Z', 'Active Trigger': 1}\n",
      "{'KiwibotID': 211, 'Status': ['Active'], 'Last Updated': '2019-01-29T08:00:00.000Z', 'Active Trigger': 1}\n",
      "{'KiwibotID': 266, 'Status': ['Active'], 'Last Updated': '2019-01-29T08:00:00.000Z', 'Active Trigger': 1}\n",
      "{'KiwibotID': 214, 'Last Updated': '2019-01-29T08:00:00.000Z', 'Active Trigger': 0}\n",
      "{'KiwibotID': 219, 'Status': ['Active'], 'Symtoms/Diagnostic': '\\n', 'Last Updated': '2019-01-29T08:00:00.000Z', 'Active Trigger': 1}\n",
      "{'KiwibotID': 263, 'Status': ['Active'], 'Symtoms/Diagnostic': 'No cameras and screen', 'Last Updated': '2019-02-09T02:00:00.000Z', 'Accountable': 'Felipe Gallo Chapaval', 'Problem': ['Screen', 'Cameras'], 'Active Trigger': 1}\n",
      "{'KiwibotID': 248, 'Status': ['Active'], 'Symtoms/Diagnostic': 'Bot only goes to the rigth', 'Last Updated': '2019-02-05T23:38:00.000Z', 'Accountable': 'Fredy Acuña', 'Active Trigger': 1}\n",
      "{'KiwibotID': 228, 'Status': ['Active'], 'Symtoms/Diagnostic': 'No video from right camera \\n', 'Last Updated': '2019-02-08T22:05:00.000Z', 'Accountable': 'Felipe Gallo Chapaval', 'Problem': ['Cameras'], 'Active Trigger': 1}\n",
      "{'KiwibotID': 270, 'Status': ['Active'], 'Symtoms/Diagnostic': 'Bell Replaced', 'Last Updated': '2019-02-13T17:53:00.000Z', 'Accountable': 'Adam', 'Problem': ['Bell'], 'REGXNOVEDADES': '153, 155', 'Active Trigger': 1}\n",
      "{'KiwibotID': 212, 'Status': ['Active'], 'Last Updated': '2019-01-29T08:00:00.000Z', 'Active Trigger': 1}\n",
      "{'KiwibotID': 264, 'Status': ['In Queue'], 'Symtoms/Diagnostic': 'The bot doesnt move. We already try with an other chassis, top, case... \\n', 'Last Updated': '2019-02-02T08:00:00.000Z', 'Accountable': 'Camila Rincones', 'Active Trigger': 0}\n",
      "{'KiwibotID': 239, 'Status': ['Active'], 'Last Updated': '2019-01-29T08:00:00.000Z', 'Active Trigger': 1}\n",
      "{'KiwibotID': 276, 'Status': ['In Queue'], 'Symtoms/Diagnostic': \"The box of Point and click doesn't appears on the screen.\", 'Last Updated': '2019-02-02T08:00:00.000Z', 'Accountable': 'Camila Rincones', 'Problem': ['Voltage calibration'], 'Active Trigger': 0}\n",
      "{'KiwibotID': 269, 'Status': ['Active'], 'Last Updated': '2019-01-29T08:00:00.000Z', 'Active Trigger': 1}\n",
      "{'KiwibotID': 281, 'Status': ['Active'], 'Last Updated': '2019-01-29T08:00:00.000Z', 'Active Trigger': 1}\n",
      "{'KiwibotID': 249, 'Status': ['Active'], 'Last Updated': '2019-01-29T08:00:00.000Z', 'Active Trigger': 1}\n",
      "{'KiwibotID': 238, 'Status': ['Active'], 'Symtoms/Diagnostic': 'Direction stuck to the sides with keyboard.\\nCheck the links of the wheels ', 'Last Updated': '2019-02-07T19:18:00.000Z', 'Accountable': 'Felipe Gallo Chapaval', 'Problem': ['MiFi', 'Screen', 'Compute Module Screws'], 'Active Trigger': 1}\n",
      "{'KiwibotID': 247, 'Status': ['Active'], 'Symtoms/Diagnostic': \"Bot doesn't give direction to the sides\", 'Last Updated': '2019-02-09T02:30:00.000Z', 'Accountable': 'Felipe Gallo Chapaval', 'Problem': ['Software', 'Servo'], 'Active Trigger': 1}\n",
      "{'KiwibotID': 220, 'Status': ['In Queue'], 'Symtoms/Diagnostic': 'Broken cupula`', 'Last Updated': '2019-02-13T11:55:00.000Z', 'Accountable': 'Fredy Acuña', 'Problem': ['Servo'], 'REGXNOVEDADES': '156, 160', 'Active Trigger': 0}\n",
      "{'KiwibotID': 293, 'Status': ['Active'], 'Last Updated': '2019-01-29T08:00:00.000Z', 'Active Trigger': 1}\n",
      "{'KiwibotID': 286, 'Status': ['In Queue'], 'Symtoms/Diagnostic': 'Doesnt connect to the network', 'Last Updated': '2019-02-02T08:00:00.000Z', 'Accountable': 'Camila Rincones', 'Active Trigger': 0}\n",
      "{'KiwibotID': 234, 'Status': ['In Queue'], 'Symtoms/Diagnostic': 'Switch gear of the bot stops it for a second', 'Last Updated': '2019-02-05T05:30:00.000Z', 'Accountable': 'Felipe Gallo Chapaval', 'Problem': ['Screen', 'Sensor bar', 'Compute Module Screws'], 'REGXNOVEDADES': '158', 'Active Trigger': 0}\n"
     ]
    }
   ],
   "source": [
    "print(len(bots))\n",
    "for bot in bots:\n",
    "    print(bot)"
   ]
  },
  {
   "cell_type": "markdown",
   "metadata": {},
   "source": [
    "# Data analysis"
   ]
  },
  {
   "cell_type": "code",
   "execution_count": 91,
   "metadata": {},
   "outputs": [],
   "source": [
    "import pandas\n",
    "import numpy as np"
   ]
  },
  {
   "cell_type": "code",
   "execution_count": null,
   "metadata": {},
   "outputs": [],
   "source": []
  }
 ],
 "metadata": {
  "kernelspec": {
   "display_name": "Python 3",
   "language": "python",
   "name": "python3"
  },
  "language_info": {
   "codemirror_mode": {
    "name": "ipython",
    "version": 3
   },
   "file_extension": ".py",
   "mimetype": "text/x-python",
   "name": "python",
   "nbconvert_exporter": "python",
   "pygments_lexer": "ipython3",
   "version": "3.6.5"
  }
 },
 "nbformat": 4,
 "nbformat_minor": 2
}
